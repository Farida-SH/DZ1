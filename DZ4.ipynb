{
 "cells": [
  {
   "cell_type": "markdown",
   "metadata": {},
   "source": [
    "# Домашнее задание №4 по теме \"Функции\""
   ]
  },
  {
   "cell_type": "code",
   "execution_count": 14,
   "metadata": {},
   "outputs": [
    {
     "ename": "SyntaxError",
     "evalue": "invalid syntax (<ipython-input-14-5fe8cf91ed3e>, line 18)",
     "output_type": "error",
     "traceback": [
      "\u001b[1;36m  File \u001b[1;32m\"<ipython-input-14-5fe8cf91ed3e>\"\u001b[1;36m, line \u001b[1;32m18\u001b[0m\n\u001b[1;33m    sh = lambda dir_number: if doc_['number'] in dir_[1] #????\u001b[0m\n\u001b[1;37m                            ^\u001b[0m\n\u001b[1;31mSyntaxError\u001b[0m\u001b[1;31m:\u001b[0m invalid syntax\n"
     ]
    }
   ],
   "source": [
    "documents = [\n",
    "{'type': 'passport', 'number': '2207 876234', 'name': 'Василий Гупкин'},\n",
    "{'type': 'invoice', 'number': '11-2', 'name': 'Геннадий Покемонов'},\n",
    "{'type': 'insurance', 'number': '10006', 'name': 'Аристарх Павлов'}\n",
    "]\n",
    "directories = {\n",
    "'1': ['2207 876234', '11-2'],\n",
    "'2': ['10006'],\n",
    "'3': []\n",
    "}\n",
    "def owner_documents(list_doc):\n",
    "    return list_doc['name']\n",
    "\n",
    "def shelf_documents(dir_):\n",
    "    return dir_[0]\n",
    "    \n",
    "def full_info(doc_, dir_):\n",
    "    sh = lambda dir_number: if doc_['number'] in dir_[1] #????\n",
    "    #намудрила, но не знаю как по-другому сказать питону, что номер полки хранения \n",
    "    #определяется поиском соответствующего значения number в directories\n",
    "    print(f'№: {doc_['number']}, тип: {doc_['type']},  владелец: {doc_['name']}, полка хранения: {sh}')\n",
    "    \n",
    "def add_shelf(dir_):\n",
    "    dir_.key() = int(user_input_number)\n",
    "    print(f'Полка добавлена. Текущий перечень полок: {dir_.keys()}') \n",
    "    \n",
    "def del_shelf(dir_):\n",
    "    del dir_.[(int(user_input_number))]\n",
    "    \n",
    "def main():\n",
    "    while True:\n",
    "    user_input_command = input('Введите команду:')\n",
    "    user_input_number = input('Введите номер документа:')\n",
    "    \n",
    "    if user_input_command == 'p' and user_input_number in list_doc['number']:\n",
    "        print(owner_documents(documents))\n",
    "    elif user_input_command == 'p' and user_input_number not in list_doc['number']:\n",
    "        print('Документ не найден в базе')\n",
    "        \n",
    "    elif user_input_command == 's' and user_input_number in dir_[1]:\n",
    "        print(shelf_documents(directories))\n",
    "    elif user_input_command == 'p' and user_input_number not in dir_[1]:\n",
    "        print('Документ не найден в базе')\n",
    "        \n",
    "    elif user_input_command == 'l':\n",
    "        full_info(documents, directories)\n",
    "        \n",
    "    elif user_input_command == 'as' and user_input_number != directories.keys():\n",
    "        add_shelf(directories)\n",
    "    elif user_input_command == 'as' and user_input_number == directories.keys():\n",
    "        print(f'Такая полка уже существует. Текущий перечень полок:{directories.keys()}')\n",
    "        \n",
    "    elif user_input_command == 'ds' and user_input_number == 3:\n",
    "        print(f'Полка удалена. Текущий перечень полок {directories.keys()}')\n",
    "    elif user_input_command == 'ds' and user_input_number == '1' or user_input_number == '2':\n",
    "        print('На полке есть документы, удалите их перед удалением полки. Текущий перечень полок: {directories.keys()}')\n",
    "    elif user_input_command == 'ds' and user_input_number != directories.keys():\n",
    "        print('Такой полки не существует. Текущий перечень полок: {directories.keys()}')\n",
    "    \n",
    "    elif user_input_command == 'q':\n",
    "        break\n",
    "    \n",
    "    "
   ]
  },
  {
   "cell_type": "code",
   "execution_count": null,
   "metadata": {},
   "outputs": [],
   "source": [
    "documents = [\n",
    "{'type': 'passport', 'number': '2207 876234', 'name': 'Василий Гупкин'},\n",
    "{'type': 'invoice', 'number': '11-2', 'name': 'Геннадий Покемонов'},\n",
    "{'type': 'insurance', 'number': '10006', 'name': 'Аристарх Павлов'}\n",
    "]\n",
    "directories = {\n",
    "'1': ['2207 876234', '11-2'],\n",
    "'2': ['10006'],\n",
    "'3': []\n",
    "}\n"
   ]
  },
  {
   "cell_type": "code",
   "execution_count": null,
   "metadata": {},
   "outputs": [],
   "source": [
    "#Задание 1. \n",
    "def owner_documents   "
   ]
  },
  {
   "cell_type": "code",
   "execution_count": 3,
   "metadata": {},
   "outputs": [
    {
     "data": {
      "text/plain": [
       "10"
      ]
     },
     "execution_count": 3,
     "metadata": {},
     "output_type": "execute_result"
    }
   ],
   "source": [
    "nums = [1, 2, 3, 4, 5, 6]\n",
    "odd_even_numbers = lambda x: 'even' if x % 2 == 0 else "
   ]
  },
  {
   "cell_type": "code",
   "execution_count": null,
   "metadata": {},
   "outputs": [],
   "source": []
  }
 ],
 "metadata": {
  "kernelspec": {
   "display_name": "Python 3",
   "language": "python",
   "name": "python3"
  },
  "language_info": {
   "codemirror_mode": {
    "name": "ipython",
    "version": 3
   },
   "file_extension": ".py",
   "mimetype": "text/x-python",
   "name": "python",
   "nbconvert_exporter": "python",
   "pygments_lexer": "ipython3",
   "version": "3.8.5"
  }
 },
 "nbformat": 4,
 "nbformat_minor": 4
}
