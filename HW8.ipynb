{
 "cells": [
  {
   "cell_type": "markdown",
   "metadata": {},
   "source": [
    "# Задание 1"
   ]
  },
  {
   "cell_type": "code",
   "execution_count": 1,
   "metadata": {},
   "outputs": [
    {
     "name": "stdout",
     "output_type": "stream",
     "text": [
      "Номер АВ222С валиден. Регион: 96\n"
     ]
    }
   ],
   "source": [
    "import re\n",
    "car_id = 'АВ222С96'\n",
    "regex_car_id = r'([А,В,Е,К,М,Н,О,Р,С,Т,У,Х]{2})(\\d{3})([А,В,Е,К,М,Н,О,Р,С,Т,У,Х]{1})(\\d{2,3})'\n",
    "if re.findall(regex_car_id, car_id): \n",
    "    car_id_match = re.search(regex_car_id,car_id)\n",
    "    print(f'Номер {car_id_match.group(1)}{car_id_match.group(2)}{car_id_match.group(3)} валиден. Регион: {car_id_match.group(4)}')\n",
    "else:\n",
    "    print('Результат: Номер не валиден')"
   ]
  },
  {
   "cell_type": "markdown",
   "metadata": {},
   "source": [
    "# Задание 2"
   ]
  },
  {
   "cell_type": "code",
   "execution_count": 1,
   "metadata": {},
   "outputs": [
    {
     "data": {
      "text/plain": [
       "'\"Напишите функцию, которая будет\\nудалять все последовательные повторы слов из заданной\\nстроки при помощи регулярных выражений'"
      ]
     },
     "execution_count": 1,
     "metadata": {},
     "output_type": "execute_result"
    }
   ],
   "source": [
    "import re\n",
    "some_string = \"\"\"\"Напишите функцию функцию, которая будет будет будет будет\n",
    "удалять все все все все последовательные повторы слов из из из из заданной\n",
    "строки строки при помощи регулярных выражений\"\"\"\n",
    "re.sub(r'(\\w+)(\\s\\1)+', r'\\1', some_string)"
   ]
  },
  {
   "cell_type": "markdown",
   "metadata": {},
   "source": [
    "# Задание 3"
   ]
  },
  {
   "cell_type": "code",
   "execution_count": 8,
   "metadata": {},
   "outputs": [
    {
     "data": {
      "text/plain": [
       "'Ит'"
      ]
     },
     "execution_count": 8,
     "metadata": {},
     "output_type": "execute_result"
    }
   ],
   "source": [
    "import re\n",
    "some_words = 'Информационные технологии'\n",
    "re.sub(r'(\\w)\\w+\\s*', r'\\1', some_words)\n",
    "\n",
    "#re.sub(r'(\\w{1})+', r'\\1', some_words)\n",
    "#re.sub(r'(\\w{1})', r'\\1', some_words)\n",
    "#re.sub(r'(\\w)(w+\\s)+', r'\\1', some_words)"
   ]
  },
  {
   "cell_type": "markdown",
   "metadata": {},
   "source": [
    "# Задание 4"
   ]
  },
  {
   "cell_type": "code",
   "execution_count": 20,
   "metadata": {},
   "outputs": [
    {
     "ename": "NameError",
     "evalue": "name 'xyz' is not defined",
     "output_type": "error",
     "traceback": [
      "\u001b[1;31m---------------------------------------------------------------------------\u001b[0m",
      "\u001b[1;31mNameError\u001b[0m                                 Traceback (most recent call last)",
      "\u001b[1;32m<ipython-input-20-5ff36028a1d6>\u001b[0m in \u001b[0;36m<module>\u001b[1;34m\u001b[0m\n\u001b[0;32m      1\u001b[0m \u001b[1;32mimport\u001b[0m \u001b[0mre\u001b[0m\u001b[1;33m\u001b[0m\u001b[1;33m\u001b[0m\u001b[0m\n\u001b[1;32m----> 2\u001b[1;33m \u001b[0memails\u001b[0m \u001b[1;33m=\u001b[0m \u001b[1;33m[\u001b[0m\u001b[1;34m'test@gmail.com, xyz@test.in, test@ya.ru, xyz@mail.ru, xyz@ya.ru'\u001b[0m\u001b[1;33m,\u001b[0m \u001b[0mxyz\u001b[0m\u001b[1;33m@\u001b[0m\u001b[0mgmail\u001b[0m\u001b[1;33m.\u001b[0m\u001b[0mcom\u001b[0m\u001b[1;33m]\u001b[0m\u001b[1;33m\u001b[0m\u001b[1;33m\u001b[0m\u001b[0m\n\u001b[0m\u001b[0;32m      3\u001b[0m \u001b[1;32mimport\u001b[0m \u001b[0mjson\u001b[0m\u001b[1;33m\u001b[0m\u001b[1;33m\u001b[0m\u001b[0m\n\u001b[0;32m      4\u001b[0m \u001b[0memail_string\u001b[0m \u001b[1;33m=\u001b[0m \u001b[0mjson\u001b[0m\u001b[1;33m.\u001b[0m\u001b[0mdumps\u001b[0m\u001b[1;33m(\u001b[0m\u001b[0memails\u001b[0m\u001b[1;33m)\u001b[0m\u001b[1;33m\u001b[0m\u001b[1;33m\u001b[0m\u001b[0m\n\u001b[0;32m      5\u001b[0m \u001b[1;33m\u001b[0m\u001b[0m\n",
      "\u001b[1;31mNameError\u001b[0m: name 'xyz' is not defined"
     ]
    }
   ],
   "source": [
    "import re\n",
    "emails = ['test@gmail.com, xyz@test.in, test@ya.ru, xyz@mail.ru, xyz@ya.ru', xyz@gmail.com]\n",
    "\n",
    "#print(type(emails))\n",
    "\n",
    "#import json\n",
    "#email_string = json.dumps(emails)\n",
    "\n",
    "#res = []\n",
    "#for el in emails:\n",
    "    #res += el\n",
    "#print(res)\n",
    "\n",
    "#sum(emails, [])\n",
    "\n",
    "#mail_pattern = (r'(\\w*\\d*)@(\\w*\\.\\w*)', emails)\n",
    "#domains = [re.search(mail_pattern, emails).group(2) for email in emails]\n",
    "#for el in domains:\n",
    "    #print(domains.count(mail.pattern))\n",
    "  \n",
    "#result = {}\n",
    "#for mail in emails:\n",
    "#    #domain = re.search(r'\\2', mail_pattern)\n",
    "    #if domain in emails:\n",
    "        #result[domain] = 0\n",
    "    #result[domain] +=  \n",
    "    #print(result)"
   ]
  },
  {
   "cell_type": "code",
   "execution_count": null,
   "metadata": {},
   "outputs": [],
   "source": []
  },
  {
   "cell_type": "code",
   "execution_count": null,
   "metadata": {},
   "outputs": [],
   "source": []
  }
 ],
 "metadata": {
  "kernelspec": {
   "display_name": "Python 3",
   "language": "python",
   "name": "python3"
  },
  "language_info": {
   "codemirror_mode": {
    "name": "ipython",
    "version": 3
   },
   "file_extension": ".py",
   "mimetype": "text/x-python",
   "name": "python",
   "nbconvert_exporter": "python",
   "pygments_lexer": "ipython3",
   "version": "3.8.5"
  }
 },
 "nbformat": 4,
 "nbformat_minor": 4
}
