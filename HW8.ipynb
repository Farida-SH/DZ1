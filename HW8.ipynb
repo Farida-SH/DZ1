{
 "cells": [
  {
   "cell_type": "markdown",
   "metadata": {},
   "source": [
    "# Задание 1"
   ]
  },
  {
   "cell_type": "code",
   "execution_count": 1,
   "metadata": {},
   "outputs": [
    {
     "name": "stdout",
     "output_type": "stream",
     "text": [
      "Номер АВ222С валиден. Регион: 96\n"
     ]
    }
   ],
   "source": [
    "import re\n",
    "car_id = 'АВ222С96'\n",
    "regex_car_id = r'([А,В,Е,К,М,Н,О,Р,С,Т,У,Х]{2})(\\d{3})([А,В,Е,К,М,Н,О,Р,С,Т,У,Х]{1})(\\d{2,3})'\n",
    "if re.findall(regex_car_id, car_id): \n",
    "    car_id_match = re.search(regex_car_id,car_id)\n",
    "    print(f'Номер {car_id_match.group(1)}{car_id_match.group(2)}{car_id_match.group(3)} валиден. Регион: {car_id_match.group(4)}')\n",
    "else:\n",
    "    print('Результат: Номер не валиден')"
   ]
  },
  {
   "cell_type": "markdown",
   "metadata": {},
   "source": [
    "# Задание 2"
   ]
  },
  {
   "cell_type": "code",
   "execution_count": 8,
   "metadata": {},
   "outputs": [
    {
     "ename": "TypeError",
     "evalue": "sub() missing 1 required positional argument: 'string'",
     "output_type": "error",
     "traceback": [
      "\u001b[1;31m---------------------------------------------------------------------------\u001b[0m",
      "\u001b[1;31mTypeError\u001b[0m                                 Traceback (most recent call last)",
      "\u001b[1;32m<ipython-input-8-fe685461ea3e>\u001b[0m in \u001b[0;36m<module>\u001b[1;34m\u001b[0m\n\u001b[0;32m      3\u001b[0m \u001b[0mудалять\u001b[0m \u001b[0mвсе\u001b[0m \u001b[0mвсе\u001b[0m \u001b[0mвсе\u001b[0m \u001b[0mвсе\u001b[0m \u001b[0mпоследовательные\u001b[0m \u001b[0mповторы\u001b[0m \u001b[0mслов\u001b[0m \u001b[0mиз\u001b[0m \u001b[0mиз\u001b[0m \u001b[0mиз\u001b[0m \u001b[0mиз\u001b[0m \u001b[0mзаданной\u001b[0m\u001b[1;33m\u001b[0m\u001b[1;33m\u001b[0m\u001b[0m\n\u001b[0;32m      4\u001b[0m строки строки при помощи регулярных выражений\"\"\"\n\u001b[1;32m----> 5\u001b[1;33m \u001b[0mre\u001b[0m\u001b[1;33m.\u001b[0m\u001b[0msub\u001b[0m\u001b[1;33m(\u001b[0m\u001b[1;34mr'(\\w+)(\\s\\1)+'\u001b[0m\u001b[1;33m,\u001b[0m \u001b[0msome_string\u001b[0m\u001b[1;33m)\u001b[0m\u001b[1;33m\u001b[0m\u001b[1;33m\u001b[0m\u001b[0m\n\u001b[0m",
      "\u001b[1;31mTypeError\u001b[0m: sub() missing 1 required positional argument: 'string'"
     ]
    }
   ],
   "source": [
    "import re\n",
    "some_string = \"\"\"\"Напишите функцию функцию, которая будет будет будет будет\n",
    "удалять все все все все последовательные повторы слов из из из из заданной\n",
    "строки строки при помощи регулярных выражений\"\"\"\n",
    "re.sub(r'(\\w+)(\\s\\1)+', some_string)"
   ]
  },
  {
   "cell_type": "markdown",
   "metadata": {},
   "source": [
    "# Задание 3"
   ]
  },
  {
   "cell_type": "code",
   "execution_count": 15,
   "metadata": {},
   "outputs": [
    {
     "data": {
      "text/plain": [
       "'е и'"
      ]
     },
     "execution_count": 15,
     "metadata": {},
     "output_type": "execute_result"
    }
   ],
   "source": [
    "import re\n",
    "some_words = 'Информационные технологии'\n",
    "#re.sub(r'(\\w)+\\s', r'\\1', some_words)\n",
    "re.sub(r'(\\w{1})+', r'\\1', some_words)\n",
    "#re.sub(r'(\\w{1})', r'\\1', some_words)\n",
    "#re.sub(r'(\\w{1})+\\s', r'\\1', some_words)\n",
    "#re.sub(r'(\\w{1})+, r'\\1', some_words)"
   ]
  },
  {
   "cell_type": "markdown",
   "metadata": {},
   "source": [
    "# Задание 4"
   ]
  },
  {
   "cell_type": "code",
   "execution_count": 16,
   "metadata": {},
   "outputs": [],
   "source": [
    "import re\n",
    "emails = 'test@gmail.com, xyz@test.in, test@ya.ru, xyz@mail.ru, xyz@ya.ru, xyz@gmail.com'\n",
    "gmail_ = 0\n",
    "mail_ = 0\n",
    "ya_ = 0\n",
    "test_ = 0\n",
    "for i in emails:\n",
    "    if re.findall(r'\\w+@gmail.com', emails):\n",
    "        gmail_ += 1\n",
    "    #print(f'gmail.com: {gmail_}')\n",
    "    if re.findall(r'\\w+@test.in', emails):\n",
    "        test_ += 1\n",
    "    #print(f'test.in: {test_}')\n",
    "    if re.findall(r'\\w+@ya.ru', emails):\n",
    "        ya_ += 1\n",
    "    #print(f'ya.ru: {ya_}')\n",
    "    if re.findall(r'\\w+@mail.ru', emails):\n",
    "        mail_ += 1\n",
    "    #print(f'mail.ru: {mail_}')"
   ]
  },
  {
   "cell_type": "code",
   "execution_count": 24,
   "metadata": {},
   "outputs": [
    {
     "ename": "SyntaxError",
     "evalue": "unexpected EOF while parsing (<ipython-input-24-e4f088fa29f4>, line 10)",
     "output_type": "error",
     "traceback": [
      "\u001b[1;36m  File \u001b[1;32m\"<ipython-input-24-e4f088fa29f4>\"\u001b[1;36m, line \u001b[1;32m10\u001b[0m\n\u001b[1;33m    #print(result)\u001b[0m\n\u001b[1;37m                  ^\u001b[0m\n\u001b[1;31mSyntaxError\u001b[0m\u001b[1;31m:\u001b[0m unexpected EOF while parsing\n"
     ]
    }
   ],
   "source": [
    "import re\n",
    "emails = 'test@gmail.com, xyz@test.in, test@ya.ru, xyz@mail.ru, xyz@ya.ru, xyz@gmail.com'\n",
    "mail_pattern = (r'(\\w*\\d*)@(\\w*\\.\\w*)', emails)\n",
    "result = {}\n",
    "for mail in emails:\n",
    "    #domain = re.search(r'\\2', mail_pattern)\n",
    "    #if domain in emails:\n",
    "        #result[domain] = 0\n",
    "    #result[domain] += 1\n",
    "    #print(result)"
   ]
  },
  {
   "cell_type": "code",
   "execution_count": null,
   "metadata": {},
   "outputs": [],
   "source": []
  },
  {
   "cell_type": "code",
   "execution_count": null,
   "metadata": {},
   "outputs": [],
   "source": []
  }
 ],
 "metadata": {
  "kernelspec": {
   "display_name": "Python 3",
   "language": "python",
   "name": "python3"
  },
  "language_info": {
   "codemirror_mode": {
    "name": "ipython",
    "version": 3
   },
   "file_extension": ".py",
   "mimetype": "text/x-python",
   "name": "python",
   "nbconvert_exporter": "python",
   "pygments_lexer": "ipython3",
   "version": "3.8.5"
  }
 },
 "nbformat": 4,
 "nbformat_minor": 4
}
