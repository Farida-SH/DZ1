{
 "cells": [
  {
   "cell_type": "markdown",
   "metadata": {},
   "source": [
    "# Задание 1"
   ]
  },
  {
   "cell_type": "code",
   "execution_count": 23,
   "metadata": {},
   "outputs": [
    {
     "name": "stdout",
     "output_type": "stream",
     "text": [
      "Фраза 1 длиннее фразы 2\n"
     ]
    }
   ],
   "source": [
    "phrase_1 = 'Цветы, как и люди, рождаются живут и умирают'\n",
    "phrase_2 = 'В жизни нет ничего лучше собственного опыта'\n",
    "if phrase_1 > phrase_2:\n",
    "    print('Фраза 1 длиннее фразы 2')\n",
    "\n"
   ]
  },
  {
   "cell_type": "code",
   "execution_count": 33,
   "metadata": {},
   "outputs": [
    {
     "name": "stdout",
     "output_type": "stream",
     "text": [
      "Фраза 2 длиннее фразы 1 \n"
     ]
    }
   ],
   "source": [
    "phrase_1 = 'В жизни нет ничего лучше собственного опыта'\n",
    "phrase_2 = 'Цветы, как и люди, рождаются живут и умирают'\n",
    "a = len(phrase_1)\n",
    "b = len(phrase_2)\n",
    "if a < b:\n",
    "    print('Фраза 2 длиннее фразы 1 ')"
   ]
  },
  {
   "cell_type": "code",
   "execution_count": 36,
   "metadata": {},
   "outputs": [
    {
     "name": "stdout",
     "output_type": "stream",
     "text": [
      "Фразы равной длины\n"
     ]
    }
   ],
   "source": [
    "phrase_1 = 'Цветы, как и люди, рождаются живут и умирают'\n",
    "phrase_2 = 'Цветы, как и люди, рождаются живут и умирают'\n",
    "a = len(phrase_1)\n",
    "b = len(phrase_2)\n",
    "if a == b:\n",
    "    print('Фразы равной длины')"
   ]
  },
  {
   "cell_type": "markdown",
   "metadata": {},
   "source": [
    "# Задание 1 - доработка"
   ]
  },
  {
   "cell_type": "code",
   "execution_count": 2,
   "metadata": {},
   "outputs": [
    {
     "name": "stdout",
     "output_type": "stream",
     "text": [
      "Фраза 2 длиннее фразы 1 \n"
     ]
    }
   ],
   "source": [
    "phrase_1 = 'В жизни нет ничего лучше собственного опыта'\n",
    "phrase_2 = 'Цветы, как и люди, рождаются живут и умирают'\n",
    "a = len(phrase_1)\n",
    "b = len(phrase_2)\n",
    "if a < b:\n",
    "    print('Фраза 2 длиннее фразы 1 ')\n",
    "elif a == b:\n",
    "    print('Фразы равной длины')\n",
    "else:\n",
    "    print('Фраза 1 длиннее фразы 2')"
   ]
  },
  {
   "cell_type": "markdown",
   "metadata": {},
   "source": [
    "   # Задание 2"
   ]
  },
  {
   "cell_type": "code",
   "execution_count": 46,
   "metadata": {},
   "outputs": [
    {
     "name": "stdout",
     "output_type": "stream",
     "text": [
      "1936 -високосный год\n"
     ]
    }
   ],
   "source": [
    "x = 1936\n",
    "if x % 4 == 0: \n",
    "    print(x, '-високосный год')"
   ]
  },
  {
   "cell_type": "code",
   "execution_count": 48,
   "metadata": {},
   "outputs": [
    {
     "name": "stdout",
     "output_type": "stream",
     "text": [
      "1934 -обычный год\n"
     ]
    }
   ],
   "source": [
    "x = 1934\n",
    "if x % 4 > 0: \n",
    "    print(x, '-обычный год')"
   ]
  },
  {
   "cell_type": "markdown",
   "metadata": {},
   "source": [
    "  # Задание 2 - доработка"
   ]
  },
  {
   "cell_type": "code",
   "execution_count": 21,
   "metadata": {},
   "outputs": [
    {
     "name": "stdout",
     "output_type": "stream",
     "text": [
      "1704  - високосный год\n"
     ]
    }
   ],
   "source": [
    "x = 1704\n",
    "if x % 400 == 0:\n",
    "    print(x, ' - високосный год')\n",
    "elif x % 100 == 0 and 1582 <= x <= 2300: \n",
    "    print(x, '-обычный год')\n",
    "elif x % 4 == 0:\n",
    "    print(x, ' - високосный год')\n",
    "else:\n",
    "    print(x, '-обычный год')"
   ]
  },
  {
   "cell_type": "markdown",
   "metadata": {},
   "source": [
    "### Задание 3"
   ]
  },
  {
   "cell_type": "code",
   "execution_count": 12,
   "metadata": {},
   "outputs": [
    {
     "ename": "SyntaxError",
     "evalue": "invalid syntax (<ipython-input-12-10c2e08594b5>, line 3)",
     "output_type": "error",
     "traceback": [
      "\u001b[1;36m  File \u001b[1;32m\"<ipython-input-12-10c2e08594b5>\"\u001b[1;36m, line \u001b[1;32m3\u001b[0m\n\u001b[1;33m    month\u001b[0m\n\u001b[1;37m    ^\u001b[0m\n\u001b[1;31mSyntaxError\u001b[0m\u001b[1;31m:\u001b[0m invalid syntax\n"
     ]
    }
   ],
   "source": [
    "month = input('Введите месяц рождения ')\n",
    "day = int(input('Введите день рождения ')\n",
    "month\n",
    "day\n",
    "if month == 'январь' and day <= 20 or month == 'декабрь' and day <= 31:\n",
    "    print ('Козерог')\n",
    "elif month == 'январь' and day <= 31 or month == 'февраль' and day <= 20:\n",
    "    print ('Водолей')\n",
    "elif month == 'февраль' and day <= 29 or month == 'март' and day <= 20:\n",
    "    print ('Рыбы')\n",
    "elif month == 'март' and day <= 31 or month == 'апрель' and day <= 20:\n",
    "    print ('Овен')\n",
    "elif month == 'апрель' and day <= 30 or month == 'май' and day <= 20:\n",
    "    print ('Телец')\n",
    "elif month == 'май' and day <= 31 or month == 'июнь' and day <= 21:\n",
    "    print ('Близнецы')\n",
    "elif month == 'июнь' and day <= 30 or month == 'июль' and day <= 22:\n",
    "    print ('Рак')\n",
    "elif month == 'июль' and day <= 31  or month == 'август' and day <= 23:\n",
    "    print ('Лев')\n",
    "elif month == 'август' and day <= 31 or month == 'сентябрь' and day <= 23:\n",
    "    print ('Дева')\n",
    "elif month == 'сентябрь' and day <= 23 or month == 'октябрь' and day <= 23:\n",
    "    print ('Весы')\n",
    "elif month == 'октябрь' and day <= 31 or month == 'ноябрь' and day <= 22:\n",
    "    print ('Скорпион')\n",
    "elif month == 'ноябрь' and day <= 30 or month == 'декабрь' and day <= 21:\n",
    "    print ('Стрелец')\n",
    "# Код сработал 1 раз, на повторе почему-то ошибка"
   ]
  },
  {
   "cell_type": "markdown",
   "metadata": {},
   "source": [
    "# Задание 4\n",
    "   "
   ]
  },
  {
   "cell_type": "code",
   "execution_count": 23,
   "metadata": {},
   "outputs": [
    {
     "name": "stdout",
     "output_type": "stream",
     "text": [
      "Коробка №2\n"
     ]
    }
   ],
   "source": [
    "width=10\n",
    "length=205\n",
    "height=5\n",
    "\n",
    "if width <= 15 and length <= 15 and height <= 15:\n",
    "    print ('Коробка №1')\n",
    "elif width <= 50 or length <= 50 or height <= 50:\n",
    "    print ('Коробка №2')\n",
    "elif width <= 50 and length <= 200 and height <= 50:\n",
    "    print ('Упаковка для лыж')\n",
    "else:\n",
    "    print ('Стандартная коробка №3')\n"
   ]
  }
 ],
 "metadata": {
  "kernelspec": {
   "display_name": "Python 3",
   "language": "python",
   "name": "python3"
  },
  "language_info": {
   "codemirror_mode": {
    "name": "ipython",
    "version": 3
   },
   "file_extension": ".py",
   "mimetype": "text/x-python",
   "name": "python",
   "nbconvert_exporter": "python",
   "pygments_lexer": "ipython3",
   "version": "3.8.5"
  }
 },
 "nbformat": 4,
 "nbformat_minor": 4
}
