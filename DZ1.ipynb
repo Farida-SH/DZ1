{
 "cells": [
  {
   "cell_type": "markdown",
   "metadata": {},
   "source": [
    "    ### Задание 1"
   ]
  },
  {
   "cell_type": "code",
   "execution_count": 23,
   "metadata": {},
   "outputs": [
    {
     "name": "stdout",
     "output_type": "stream",
     "text": [
      "Фраза 1 длиннее фразы 2\n"
     ]
    }
   ],
   "source": [
    "phrase_1 = 'Цветы, как и люди, рождаются живут и умирают'\n",
    "phrase_2 = 'В жизни нет ничего лучше собственного опыта'\n",
    "if phrase_1 > phrase_2:\n",
    "   print('Фраза 1 длиннее фразы 2')\n",
    "\n"
   ]
  },
  {
   "cell_type": "code",
   "execution_count": 33,
   "metadata": {},
   "outputs": [
    {
     "name": "stdout",
     "output_type": "stream",
     "text": [
      "Фраза 2 длиннее фразы 1 \n"
     ]
    }
   ],
   "source": [
    "phrase_1 = 'В жизни нет ничего лучше собственного опыта'\n",
    "phrase_2 = 'Цветы, как и люди, рождаются живут и умирают'\n",
    "a = len(phrase_1)\n",
    "b = len(phrase_2)\n",
    "if a<b:\n",
    "    print('Фраза 2 длиннее фразы 1 ')"
   ]
  },
  {
   "cell_type": "code",
   "execution_count": 36,
   "metadata": {},
   "outputs": [
    {
     "name": "stdout",
     "output_type": "stream",
     "text": [
      "Фразы равной длины\n"
     ]
    }
   ],
   "source": [
    "phrase_1 = 'Цветы, как и люди, рождаются живут и умирают'\n",
    "phrase_2 = 'Цветы, как и люди, рождаются живут и умирают'\n",
    "a = len(phrase_1)\n",
    "b = len(phrase_2)\n",
    "if a == b:\n",
    "   print('Фразы равной длины')"
   ]
  },
  {
   "cell_type": "code",
   "execution_count": 46,
   "metadata": {},
   "outputs": [
    {
     "name": "stdout",
     "output_type": "stream",
     "text": [
      "1936 -високосный год\n"
     ]
    }
   ],
   "source": [
    "### Задание 2\n",
    "x = 1936\n",
    "if x % 4 == 0: \n",
    "    print(x, '-високосный год')"
   ]
  },
  {
   "cell_type": "code",
   "execution_count": 48,
   "metadata": {},
   "outputs": [
    {
     "name": "stdout",
     "output_type": "stream",
     "text": [
      "1934 -обычный год\n"
     ]
    }
   ],
   "source": [
    "x = 1934\n",
    "if x % 4 > 0: \n",
    "    print(x, '-обычный год')"
   ]
  },
  {
   "cell_type": "markdown",
   "metadata": {},
   "source": [
    "### Задание 3"
   ]
  },
  {
   "cell_type": "code",
   "execution_count": null,
   "metadata": {},
   "outputs": [],
   "source": [
    "month = str(input('Введите месяц рождения'))\n",
    "day = int(input('Введите день рождения'))\n",
    "month\n",
    "day\n",
    "if month == 'январь' and day <= 20 or month == 'декабрь' and day <= 31 \n",
    "   print ('Козерог')\n",
    "elif month == 'январь' and day <= 31 or month == 'февраль' and day <= 20\n",
    "   print ('Водолей')\n",
    "elif month == 'февраль' and day <= 29 or elif month == 'март' and day <= 20\n",
    "   print ('Рыбы')\n",
    "elif month == 'март' and day <= 31 or month == 'апрель' and day <= 20\n",
    "   print ('Овен')\n",
    "elif month == 'апрель' and day <= 30 or month == 'май' and day <= 20\n",
    "   print ('Телец')\n",
    "elif month == 'май' and day <= 31 or month == 'июнь' and day <= 21\n",
    "   print ('Близнецы')\n",
    "elif month == 'июнь' and day <= 30 or month == 'июль' and day <= 22\n",
    "    print ('Рак')\n",
    "elif month == 'июль' and day <= 31  or month == 'август' and day <= 23\n",
    "    print ('Лев')\n",
    "elif month == 'август' and day <= 31 or month == 'сентябрь' and day <= 23\n",
    "    print ('Дева')\n",
    "elif month == 'сентябрь' and day <= 23 or month == 'октябрь' and day <= 23\n",
    "    print ('Весы')\n",
    "elif month == 'октябрь' and day <= 31 or month == 'ноябрь' and day <= 22\n",
    "    print ('Скорпион')\n",
    "elif month == 'ноябрь' and day <= 30 or month == 'декабрь' and day <= 21\n",
    "    print ('Стрелец')"
   ]
  },
  {
   "cell_type": "markdown",
   "metadata": {},
   "source": [
    "    ### Задание 4\n",
    "   "
   ]
  },
  {
   "cell_type": "code",
   "execution_count": null,
   "metadata": {},
   "outputs": [],
   "source": [
    "width=10\n",
    "length=205\n",
    "height=5\n",
    "\n",
    "if width <= 15 and length <= 15 and height <= 15\n",
    "    print ('Коробка №1')\n",
    "elif width <= 50 and length <= 50 and height <= 50\n",
    "    print ('Коробка №2')\n",
    "elif width <= 50 and length <= 200 and height <= 50\n",
    "    print ('Упаковка для лыж')\n",
    "else \n",
    "    print ('Стандартная коробка №3')\n"
   ]
  },
  {
   "cell_type": "markdown",
   "metadata": {},
   "source": [
    "### Задание 5\n"
   ]
  },
  {
   "cell_type": "code",
   "execution_count": null,
   "metadata": {},
   "outputs": [],
   "source": [
    "tickit_number = 852974\n",
    "a = 8 + 5 + 2\n",
    "b = 9 + 7 + 4\n",
    "\n",
    "if a == b\n",
    "   print ('Счастливый билет')\n",
    "else \n",
    "   print ('Несчастливый билет')\n"
   ]
  },
  {
   "cell_type": "markdown",
   "metadata": {},
   "source": [
    "    ### Задание 6"
   ]
  },
  {
   "cell_type": "code",
   "execution_count": null,
   "metadata": {},
   "outputs": [],
   "source": [
    "shape = input(str('Введите тип фигуры'))\n",
    "if shape = 'Круг'\n",
    "   radius =  int(input(Введите радиус круга))\n",
    "   s_circle = Radius ** 2 * 3.14\n",
    "   print ('Площадь круга =', s_circle)\n",
    "elif shape = 'Прямоугольник'\n",
    "   side_1 = int(input(Введите длину одной стороны))\n",
    "   side_2 = int(input(Введите длину другой стороны))\n",
    "   s_rectangle = side_1 * side_2\n",
    "   print ('Площадь прямоугольника =', s_rectangle) \n",
    "else shape = 'Треугольник'\n",
    "   side_1 = int(input(Введите длину одной стороны))\n",
    "   side_2 = int(input(Введите длину другой стороны))\n",
    "   side_3 = int(input(Введите длину третьей стороны))\n",
    "   p = (side_1 + side_2 + side_3)/2\n",
    "   s_triangle_1 = (p*(p - side_1) * (p - side_2) * (p - side_3)) \n",
    "   from math import sqrt\n",
    "   s_triangle_2 = sqrt(s_triangle_1)\n",
    "   print ('Площадь треугольника =', s_triangle_2) "
   ]
  },
  {
   "cell_type": "code",
   "execution_count": null,
   "metadata": {},
   "outputs": [],
   "source": []
  }
 ],
 "metadata": {
  "kernelspec": {
   "display_name": "Python 3",
   "language": "python",
   "name": "python3"
  },
  "language_info": {
   "codemirror_mode": {
    "name": "ipython",
    "version": 3
   },
   "file_extension": ".py",
   "mimetype": "text/x-python",
   "name": "python",
   "nbconvert_exporter": "python",
   "pygments_lexer": "ipython3",
   "version": "3.8.5"
  }
 },
 "nbformat": 4,
 "nbformat_minor": 4
}
