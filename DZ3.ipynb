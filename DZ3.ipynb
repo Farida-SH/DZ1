{
 "cells": [
  {
   "cell_type": "markdown",
   "metadata": {},
   "source": [
    "# Задание 1"
   ]
  },
  {
   "cell_type": "code",
   "execution_count": 27,
   "metadata": {},
   "outputs": [
    {
     "name": "stdout",
     "output_type": "stream",
     "text": [
      "[[213, 213, 213, 15, 213], [54, 54, 119, 119, 119], [213, 98, 98, 35]]\n",
      "[213, 213, 213, 15, 213, 54, 54, 119, 119, 119, 213, 98, 98, 35]\n",
      "{98, 35, 15, 213, 54, 119}\n"
     ]
    }
   ],
   "source": [
    "ids = {'user1': [213, 213, 213, 15, 213],\n",
    "'user2': [54, 54, 119, 119, 119],\n",
    "'user3': [213, 98, 98, 35]}\n",
    "geo = []\n",
    "for v in ids.values():\n",
    "    geo.append(v)\n",
    "print(geo)\n",
    "geo_2 = sum(geo, [])\n",
    "print(geo_2)\n",
    "print(set(geo_2))\n",
    "    \n",
    "   "
   ]
  },
  {
   "cell_type": "markdown",
   "metadata": {},
   "source": [
    "   # Задание 2"
   ]
  },
  {
   "cell_type": "code",
   "execution_count": 59,
   "metadata": {},
   "outputs": [
    {
     "name": "stdout",
     "output_type": "stream",
     "text": [
      "Поисковых запросов, содержащих 2 слов(а):42.86%\n",
      "Поисковых запросов, содержащих 3 слов(а):57.14%\n"
     ]
    }
   ],
   "source": [
    "queries = [\n",
    "'смотреть сериалы онлайн',\n",
    "'новости спорта',\n",
    "'афиша кино',\n",
    "'курс доллара',\n",
    "'сериалы этим летом',\n",
    "'курс по питону',\n",
    "'сериалы про спорт',\n",
    "]\n",
    "len_total = len(queries)\n",
    "len_2 = 0\n",
    "len_3 = 0\n",
    "for i in queries:\n",
    "    a = len(i.split())\n",
    "    if a == 2:\n",
    "        len_2 += 1\n",
    "    else:\n",
    "        len_3 += 1\n",
    "print(f\"Поисковых запросов, содержащих 2 слов(а):{round(len_2/len_total*100, 2)}%\")\n",
    "print(f\"Поисковых запросов, содержащих 3 слов(а):{round(len_3/len_total*100, 2)}%\")"
   ]
  },
  {
   "cell_type": "markdown",
   "metadata": {},
   "source": [
    "# Задание 2 - доработка"
   ]
  },
  {
   "cell_type": "code",
   "execution_count": 17,
   "metadata": {},
   "outputs": [
    {
     "ename": "SyntaxError",
     "evalue": "cannot assign to function call (<ipython-input-17-d3c8d67d3396>, line 16)",
     "output_type": "error",
     "traceback": [
      "\u001b[1;36m  File \u001b[1;32m\"<ipython-input-17-d3c8d67d3396>\"\u001b[1;36m, line \u001b[1;32m16\u001b[0m\n\u001b[1;33m    result.values() += 1\u001b[0m\n\u001b[1;37m    ^\u001b[0m\n\u001b[1;31mSyntaxError\u001b[0m\u001b[1;31m:\u001b[0m cannot assign to function call\n"
     ]
    }
   ],
   "source": [
    "queries = [\n",
    "'смотреть сериалы онлайн',\n",
    "'новости спорта',\n",
    "'афиша кино',\n",
    "'курс доллара',\n",
    "'сериалы этим летом',\n",
    "'курс по питону',\n",
    "'сериалы про спорт',\n",
    "]\n",
    "len_total = len(queries)\n",
    "result = {}\n",
    "for query in queries:\n",
    "    splitted_query_len = len(query.split())\n",
    "    if splitted_query_len not in result:\n",
    "        result[splitted_query_len] = 0\n",
    "        result.values() += 1 \n",
    "        #result.setdefault(len(query.split()),0)\n",
    "        #result[splitted_query_len] += 1\n",
    "for k, v in result.items():\n",
    "    print(f\"Поисковых запросов, содержащих {k} слов(а):{round(v/len_total*100, 2)}%\")"
   ]
  },
  {
   "cell_type": "markdown",
   "metadata": {},
   "source": [
    "# Задание 3 - доработка"
   ]
  },
  {
   "cell_type": "code",
   "execution_count": 4,
   "metadata": {},
   "outputs": [
    {
     "name": "stdout",
     "output_type": "stream",
     "text": [
      "{'vk': {'revenue': 103, 'cost': 98, 'ROI': 5}, 'yandex': {'revenue': 179, 'cost': 153, 'ROI': 16}, 'facebook': {'revenue': 103, 'cost': 110, 'ROI': -6}, 'adwords': {'revenue': 35, 'cost': 34, 'ROI': 2}, 'twitter': {'revenue': 11, 'cost': 24, 'ROI': -54}}\n"
     ]
    }
   ],
   "source": [
    "results = {\n",
    "'vk': {'revenue': 103, 'cost': 98},\n",
    "'yandex': {'revenue': 179, 'cost': 153},\n",
    "'facebook': {'revenue': 103, 'cost': 110},\n",
    "'adwords': {'revenue': 35, 'cost': 34},\n",
    "'twitter': {'revenue': 11, 'cost': 24},\n",
    "}\n",
    "\n",
    "for info in results.values():\n",
    "    info['ROI'] = int((info['revenue']/info['cost']-1)*100)\n",
    "\n",
    "print(results)"
   ]
  },
  {
   "cell_type": "markdown",
   "metadata": {},
   "source": [
    "# Задание 4"
   ]
  },
  {
   "cell_type": "code",
   "execution_count": 39,
   "metadata": {},
   "outputs": [
    {
     "name": "stdout",
     "output_type": "stream",
     "text": [
      "Максимальный объем продаж на рекламном канале:['vk']\n"
     ]
    }
   ],
   "source": [
    "# Способ с List comprehension\n",
    "stats = {'facebook' : 55, 'yandex': 115, 'vk': 120, 'google': 99, 'email': 42, 'ok': 98}\n",
    "for v in stats.values():\n",
    "    a = max(stats.values()) \n",
    "kv = [k for k, v in stats.items() if v == a]        \n",
    "print(f\"Максимальный объем продаж на рекламном канале:{kv}\")"
   ]
  },
  {
   "cell_type": "code",
   "execution_count": null,
   "metadata": {},
   "outputs": [],
   "source": []
  }
 ],
 "metadata": {
  "kernelspec": {
   "display_name": "Python 3",
   "language": "python",
   "name": "python3"
  },
  "language_info": {
   "codemirror_mode": {
    "name": "ipython",
    "version": 3
   },
   "file_extension": ".py",
   "mimetype": "text/x-python",
   "name": "python",
   "nbconvert_exporter": "python",
   "pygments_lexer": "ipython3",
   "version": "3.8.5"
  }
 },
 "nbformat": 4,
 "nbformat_minor": 4
}
